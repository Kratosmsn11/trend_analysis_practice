{
  "nbformat": 4,
  "nbformat_minor": 0,
  "metadata": {
    "colab": {
      "provenance": [],
      "collapsed_sections": [
        "Xv7fY_VFXBk6"
      ],
      "authorship_tag": "ABX9TyOet63U2EbTa5DPAZMybbUf",
      "include_colab_link": true
    },
    "kernelspec": {
      "name": "python3",
      "display_name": "Python 3"
    },
    "language_info": {
      "name": "python"
    }
  },
  "cells": [
    {
      "cell_type": "markdown",
      "metadata": {
        "id": "view-in-github",
        "colab_type": "text"
      },
      "source": [
        "<a href=\"https://colab.research.google.com/github/Kratosmsn11/trend_analysis_practice/blob/test_1/Data_Visualization.ipynb\" target=\"_parent\"><img src=\"https://colab.research.google.com/assets/colab-badge.svg\" alt=\"Open In Colab\"/></a>"
      ]
    },
    {
      "cell_type": "markdown",
      "source": [
        "# Initial Exploration"
      ],
      "metadata": {
        "id": "Xv7fY_VFXBk6"
      }
    },
    {
      "cell_type": "code",
      "execution_count": 8,
      "metadata": {
        "id": "gsL56AZs3PLf"
      },
      "outputs": [],
      "source": [
        "import pandas as pd\n",
        "import numpy as np\n",
        "import matplotlib.pyplot as plt\n",
        "import seaborn as sns"
      ]
    },
    {
      "cell_type": "code",
      "source": [
        "dataset = pd.read_csv(\"https://raw.githubusercontent.com/Kratosmsn11/trend_analysis_practice/main/Dataset%201%20-%20Dataset%201.csv\")"
      ],
      "metadata": {
        "id": "JOI9VlWzMoPo"
      },
      "execution_count": 10,
      "outputs": []
    },
    {
      "cell_type": "code",
      "source": [
        "dataset.head()"
      ],
      "metadata": {
        "colab": {
          "base_uri": "https://localhost:8080/",
          "height": 206
        },
        "id": "lAqhSRrZNpIh",
        "outputId": "d3bc6079-efbb-495f-b01c-d9e18520c04d"
      },
      "execution_count": 11,
      "outputs": [
        {
          "output_type": "execute_result",
          "data": {
            "text/plain": [
              "   Serial Number       Title       Status        Labels Created Date  \\\n",
              "0           3732  Issue 3732         open          Task   2023-03-02   \n",
              "1           7324  Issue 7324  in-progress         Login   2023-12-20   \n",
              "2           4769  Issue 4769         open  Registration   2023-09-08   \n",
              "3           6388  Issue 6388  in-progress         Login   2023-10-16   \n",
              "4           1756  Issue 1756  in-progress         Login   2023-12-11   \n",
              "\n",
              "  Resolution Status Updated Date Resolution Date    Assignee    Reporter  \n",
              "0          resolved   2023-08-15      2023-08-15  Assignee 1  Reporter 2  \n",
              "1          resolved   2023-09-07      2023-09-07  Assignee 2  Reporter 3  \n",
              "2        unresolved   2023-09-08            None  Assignee 5  Reporter 1  \n",
              "3        unresolved   2023-10-16             NaN  Assignee 5  Reporter 2  \n",
              "4          resolved   2023-03-20      2023-03-20  Assignee 2  Reporter 3  "
            ],
            "text/html": [
              "\n",
              "  <div id=\"df-d7c460fa-92ea-456c-a272-68a46a3de2c5\" class=\"colab-df-container\">\n",
              "    <div>\n",
              "<style scoped>\n",
              "    .dataframe tbody tr th:only-of-type {\n",
              "        vertical-align: middle;\n",
              "    }\n",
              "\n",
              "    .dataframe tbody tr th {\n",
              "        vertical-align: top;\n",
              "    }\n",
              "\n",
              "    .dataframe thead th {\n",
              "        text-align: right;\n",
              "    }\n",
              "</style>\n",
              "<table border=\"1\" class=\"dataframe\">\n",
              "  <thead>\n",
              "    <tr style=\"text-align: right;\">\n",
              "      <th></th>\n",
              "      <th>Serial Number</th>\n",
              "      <th>Title</th>\n",
              "      <th>Status</th>\n",
              "      <th>Labels</th>\n",
              "      <th>Created Date</th>\n",
              "      <th>Resolution Status</th>\n",
              "      <th>Updated Date</th>\n",
              "      <th>Resolution Date</th>\n",
              "      <th>Assignee</th>\n",
              "      <th>Reporter</th>\n",
              "    </tr>\n",
              "  </thead>\n",
              "  <tbody>\n",
              "    <tr>\n",
              "      <th>0</th>\n",
              "      <td>3732</td>\n",
              "      <td>Issue 3732</td>\n",
              "      <td>open</td>\n",
              "      <td>Task</td>\n",
              "      <td>2023-03-02</td>\n",
              "      <td>resolved</td>\n",
              "      <td>2023-08-15</td>\n",
              "      <td>2023-08-15</td>\n",
              "      <td>Assignee 1</td>\n",
              "      <td>Reporter 2</td>\n",
              "    </tr>\n",
              "    <tr>\n",
              "      <th>1</th>\n",
              "      <td>7324</td>\n",
              "      <td>Issue 7324</td>\n",
              "      <td>in-progress</td>\n",
              "      <td>Login</td>\n",
              "      <td>2023-12-20</td>\n",
              "      <td>resolved</td>\n",
              "      <td>2023-09-07</td>\n",
              "      <td>2023-09-07</td>\n",
              "      <td>Assignee 2</td>\n",
              "      <td>Reporter 3</td>\n",
              "    </tr>\n",
              "    <tr>\n",
              "      <th>2</th>\n",
              "      <td>4769</td>\n",
              "      <td>Issue 4769</td>\n",
              "      <td>open</td>\n",
              "      <td>Registration</td>\n",
              "      <td>2023-09-08</td>\n",
              "      <td>unresolved</td>\n",
              "      <td>2023-09-08</td>\n",
              "      <td>None</td>\n",
              "      <td>Assignee 5</td>\n",
              "      <td>Reporter 1</td>\n",
              "    </tr>\n",
              "    <tr>\n",
              "      <th>3</th>\n",
              "      <td>6388</td>\n",
              "      <td>Issue 6388</td>\n",
              "      <td>in-progress</td>\n",
              "      <td>Login</td>\n",
              "      <td>2023-10-16</td>\n",
              "      <td>unresolved</td>\n",
              "      <td>2023-10-16</td>\n",
              "      <td>NaN</td>\n",
              "      <td>Assignee 5</td>\n",
              "      <td>Reporter 2</td>\n",
              "    </tr>\n",
              "    <tr>\n",
              "      <th>4</th>\n",
              "      <td>1756</td>\n",
              "      <td>Issue 1756</td>\n",
              "      <td>in-progress</td>\n",
              "      <td>Login</td>\n",
              "      <td>2023-12-11</td>\n",
              "      <td>resolved</td>\n",
              "      <td>2023-03-20</td>\n",
              "      <td>2023-03-20</td>\n",
              "      <td>Assignee 2</td>\n",
              "      <td>Reporter 3</td>\n",
              "    </tr>\n",
              "  </tbody>\n",
              "</table>\n",
              "</div>\n",
              "    <div class=\"colab-df-buttons\">\n",
              "\n",
              "  <div class=\"colab-df-container\">\n",
              "    <button class=\"colab-df-convert\" onclick=\"convertToInteractive('df-d7c460fa-92ea-456c-a272-68a46a3de2c5')\"\n",
              "            title=\"Convert this dataframe to an interactive table.\"\n",
              "            style=\"display:none;\">\n",
              "\n",
              "  <svg xmlns=\"http://www.w3.org/2000/svg\" height=\"24px\" viewBox=\"0 -960 960 960\">\n",
              "    <path d=\"M120-120v-720h720v720H120Zm60-500h600v-160H180v160Zm220 220h160v-160H400v160Zm0 220h160v-160H400v160ZM180-400h160v-160H180v160Zm440 0h160v-160H620v160ZM180-180h160v-160H180v160Zm440 0h160v-160H620v160Z\"/>\n",
              "  </svg>\n",
              "    </button>\n",
              "\n",
              "  <style>\n",
              "    .colab-df-container {\n",
              "      display:flex;\n",
              "      gap: 12px;\n",
              "    }\n",
              "\n",
              "    .colab-df-convert {\n",
              "      background-color: #E8F0FE;\n",
              "      border: none;\n",
              "      border-radius: 50%;\n",
              "      cursor: pointer;\n",
              "      display: none;\n",
              "      fill: #1967D2;\n",
              "      height: 32px;\n",
              "      padding: 0 0 0 0;\n",
              "      width: 32px;\n",
              "    }\n",
              "\n",
              "    .colab-df-convert:hover {\n",
              "      background-color: #E2EBFA;\n",
              "      box-shadow: 0px 1px 2px rgba(60, 64, 67, 0.3), 0px 1px 3px 1px rgba(60, 64, 67, 0.15);\n",
              "      fill: #174EA6;\n",
              "    }\n",
              "\n",
              "    .colab-df-buttons div {\n",
              "      margin-bottom: 4px;\n",
              "    }\n",
              "\n",
              "    [theme=dark] .colab-df-convert {\n",
              "      background-color: #3B4455;\n",
              "      fill: #D2E3FC;\n",
              "    }\n",
              "\n",
              "    [theme=dark] .colab-df-convert:hover {\n",
              "      background-color: #434B5C;\n",
              "      box-shadow: 0px 1px 3px 1px rgba(0, 0, 0, 0.15);\n",
              "      filter: drop-shadow(0px 1px 2px rgba(0, 0, 0, 0.3));\n",
              "      fill: #FFFFFF;\n",
              "    }\n",
              "  </style>\n",
              "\n",
              "    <script>\n",
              "      const buttonEl =\n",
              "        document.querySelector('#df-d7c460fa-92ea-456c-a272-68a46a3de2c5 button.colab-df-convert');\n",
              "      buttonEl.style.display =\n",
              "        google.colab.kernel.accessAllowed ? 'block' : 'none';\n",
              "\n",
              "      async function convertToInteractive(key) {\n",
              "        const element = document.querySelector('#df-d7c460fa-92ea-456c-a272-68a46a3de2c5');\n",
              "        const dataTable =\n",
              "          await google.colab.kernel.invokeFunction('convertToInteractive',\n",
              "                                                    [key], {});\n",
              "        if (!dataTable) return;\n",
              "\n",
              "        const docLinkHtml = 'Like what you see? Visit the ' +\n",
              "          '<a target=\"_blank\" href=https://colab.research.google.com/notebooks/data_table.ipynb>data table notebook</a>'\n",
              "          + ' to learn more about interactive tables.';\n",
              "        element.innerHTML = '';\n",
              "        dataTable['output_type'] = 'display_data';\n",
              "        await google.colab.output.renderOutput(dataTable, element);\n",
              "        const docLink = document.createElement('div');\n",
              "        docLink.innerHTML = docLinkHtml;\n",
              "        element.appendChild(docLink);\n",
              "      }\n",
              "    </script>\n",
              "  </div>\n",
              "\n",
              "\n",
              "<div id=\"df-999eec7c-0df6-4066-9220-d4e5188a6b1e\">\n",
              "  <button class=\"colab-df-quickchart\" onclick=\"quickchart('df-999eec7c-0df6-4066-9220-d4e5188a6b1e')\"\n",
              "            title=\"Suggest charts\"\n",
              "            style=\"display:none;\">\n",
              "\n",
              "<svg xmlns=\"http://www.w3.org/2000/svg\" height=\"24px\"viewBox=\"0 0 24 24\"\n",
              "     width=\"24px\">\n",
              "    <g>\n",
              "        <path d=\"M19 3H5c-1.1 0-2 .9-2 2v14c0 1.1.9 2 2 2h14c1.1 0 2-.9 2-2V5c0-1.1-.9-2-2-2zM9 17H7v-7h2v7zm4 0h-2V7h2v10zm4 0h-2v-4h2v4z\"/>\n",
              "    </g>\n",
              "</svg>\n",
              "  </button>\n",
              "\n",
              "<style>\n",
              "  .colab-df-quickchart {\n",
              "      --bg-color: #E8F0FE;\n",
              "      --fill-color: #1967D2;\n",
              "      --hover-bg-color: #E2EBFA;\n",
              "      --hover-fill-color: #174EA6;\n",
              "      --disabled-fill-color: #AAA;\n",
              "      --disabled-bg-color: #DDD;\n",
              "  }\n",
              "\n",
              "  [theme=dark] .colab-df-quickchart {\n",
              "      --bg-color: #3B4455;\n",
              "      --fill-color: #D2E3FC;\n",
              "      --hover-bg-color: #434B5C;\n",
              "      --hover-fill-color: #FFFFFF;\n",
              "      --disabled-bg-color: #3B4455;\n",
              "      --disabled-fill-color: #666;\n",
              "  }\n",
              "\n",
              "  .colab-df-quickchart {\n",
              "    background-color: var(--bg-color);\n",
              "    border: none;\n",
              "    border-radius: 50%;\n",
              "    cursor: pointer;\n",
              "    display: none;\n",
              "    fill: var(--fill-color);\n",
              "    height: 32px;\n",
              "    padding: 0;\n",
              "    width: 32px;\n",
              "  }\n",
              "\n",
              "  .colab-df-quickchart:hover {\n",
              "    background-color: var(--hover-bg-color);\n",
              "    box-shadow: 0 1px 2px rgba(60, 64, 67, 0.3), 0 1px 3px 1px rgba(60, 64, 67, 0.15);\n",
              "    fill: var(--button-hover-fill-color);\n",
              "  }\n",
              "\n",
              "  .colab-df-quickchart-complete:disabled,\n",
              "  .colab-df-quickchart-complete:disabled:hover {\n",
              "    background-color: var(--disabled-bg-color);\n",
              "    fill: var(--disabled-fill-color);\n",
              "    box-shadow: none;\n",
              "  }\n",
              "\n",
              "  .colab-df-spinner {\n",
              "    border: 2px solid var(--fill-color);\n",
              "    border-color: transparent;\n",
              "    border-bottom-color: var(--fill-color);\n",
              "    animation:\n",
              "      spin 1s steps(1) infinite;\n",
              "  }\n",
              "\n",
              "  @keyframes spin {\n",
              "    0% {\n",
              "      border-color: transparent;\n",
              "      border-bottom-color: var(--fill-color);\n",
              "      border-left-color: var(--fill-color);\n",
              "    }\n",
              "    20% {\n",
              "      border-color: transparent;\n",
              "      border-left-color: var(--fill-color);\n",
              "      border-top-color: var(--fill-color);\n",
              "    }\n",
              "    30% {\n",
              "      border-color: transparent;\n",
              "      border-left-color: var(--fill-color);\n",
              "      border-top-color: var(--fill-color);\n",
              "      border-right-color: var(--fill-color);\n",
              "    }\n",
              "    40% {\n",
              "      border-color: transparent;\n",
              "      border-right-color: var(--fill-color);\n",
              "      border-top-color: var(--fill-color);\n",
              "    }\n",
              "    60% {\n",
              "      border-color: transparent;\n",
              "      border-right-color: var(--fill-color);\n",
              "    }\n",
              "    80% {\n",
              "      border-color: transparent;\n",
              "      border-right-color: var(--fill-color);\n",
              "      border-bottom-color: var(--fill-color);\n",
              "    }\n",
              "    90% {\n",
              "      border-color: transparent;\n",
              "      border-bottom-color: var(--fill-color);\n",
              "    }\n",
              "  }\n",
              "</style>\n",
              "\n",
              "  <script>\n",
              "    async function quickchart(key) {\n",
              "      const quickchartButtonEl =\n",
              "        document.querySelector('#' + key + ' button');\n",
              "      quickchartButtonEl.disabled = true;  // To prevent multiple clicks.\n",
              "      quickchartButtonEl.classList.add('colab-df-spinner');\n",
              "      try {\n",
              "        const charts = await google.colab.kernel.invokeFunction(\n",
              "            'suggestCharts', [key], {});\n",
              "      } catch (error) {\n",
              "        console.error('Error during call to suggestCharts:', error);\n",
              "      }\n",
              "      quickchartButtonEl.classList.remove('colab-df-spinner');\n",
              "      quickchartButtonEl.classList.add('colab-df-quickchart-complete');\n",
              "    }\n",
              "    (() => {\n",
              "      let quickchartButtonEl =\n",
              "        document.querySelector('#df-999eec7c-0df6-4066-9220-d4e5188a6b1e button');\n",
              "      quickchartButtonEl.style.display =\n",
              "        google.colab.kernel.accessAllowed ? 'block' : 'none';\n",
              "    })();\n",
              "  </script>\n",
              "</div>\n",
              "\n",
              "    </div>\n",
              "  </div>\n"
            ]
          },
          "metadata": {},
          "execution_count": 11
        }
      ]
    },
    {
      "cell_type": "code",
      "source": [
        "dataset.info()"
      ],
      "metadata": {
        "colab": {
          "base_uri": "https://localhost:8080/"
        },
        "id": "YQgtRbp3Sa_F",
        "outputId": "96a0203a-4288-4363-daf9-a96e4ff3d770"
      },
      "execution_count": 13,
      "outputs": [
        {
          "output_type": "stream",
          "name": "stdout",
          "text": [
            "<class 'pandas.core.frame.DataFrame'>\n",
            "RangeIndex: 10 entries, 0 to 9\n",
            "Data columns (total 10 columns):\n",
            " #   Column             Non-Null Count  Dtype \n",
            "---  ------             --------------  ----- \n",
            " 0   Serial Number      10 non-null     int64 \n",
            " 1   Title              10 non-null     object\n",
            " 2   Status             10 non-null     object\n",
            " 3   Labels             10 non-null     object\n",
            " 4   Created Date       10 non-null     object\n",
            " 5   Resolution Status  10 non-null     object\n",
            " 6   Updated Date       10 non-null     object\n",
            " 7   Resolution Date    9 non-null      object\n",
            " 8   Assignee           10 non-null     object\n",
            " 9   Reporter           10 non-null     object\n",
            "dtypes: int64(1), object(9)\n",
            "memory usage: 928.0+ bytes\n"
          ]
        }
      ]
    },
    {
      "cell_type": "code",
      "source": [
        "dataset.nunique()"
      ],
      "metadata": {
        "colab": {
          "base_uri": "https://localhost:8080/"
        },
        "id": "kQKjMKutSeE9",
        "outputId": "65f227d8-fcb9-4707-e4a5-ef1e760c8247"
      },
      "execution_count": 14,
      "outputs": [
        {
          "output_type": "execute_result",
          "data": {
            "text/plain": [
              "Serial Number        10\n",
              "Title                10\n",
              "Status                3\n",
              "Labels                6\n",
              "Created Date         10\n",
              "Resolution Status     2\n",
              "Updated Date          8\n",
              "Resolution Date       6\n",
              "Assignee              5\n",
              "Reporter              5\n",
              "dtype: int64"
            ]
          },
          "metadata": {},
          "execution_count": 14
        }
      ]
    },
    {
      "cell_type": "markdown",
      "source": [
        "# Questions we can answer and provide details to the SLT"
      ],
      "metadata": {
        "id": "exramt_ZW3dM"
      }
    },
    {
      "cell_type": "markdown",
      "source": [
        "How many issues were created vs resolved?"
      ],
      "metadata": {
        "id": "tM1G-ZckXMu3"
      }
    },
    {
      "cell_type": "code",
      "source": [
        "# need to brainstorm"
      ],
      "metadata": {
        "id": "68m5LPE4Y87J"
      },
      "execution_count": null,
      "outputs": []
    },
    {
      "cell_type": "markdown",
      "source": [
        "Which types of issues were created vs resolved?"
      ],
      "metadata": {
        "id": "EJ5x9CrfYZNY"
      }
    },
    {
      "cell_type": "markdown",
      "source": [
        "What type of issues did we see?\n",
        "- Why did we see a certain rise in such areas?\n",
        "- What did we do?"
      ],
      "metadata": {
        "id": "xbN47R51YJBh"
      }
    },
    {
      "cell_type": "code",
      "source": [
        "dataset['Labels'].value_counts().plot.bar()\n",
        "plt.title(\"Types of Issues Reported\")\n",
        "plt.xlabel(\"Types of Issues\")\n",
        "plt.ylabel(\"Number of Issues\")"
      ],
      "metadata": {
        "colab": {
          "base_uri": "https://localhost:8080/",
          "height": 559
        },
        "id": "qyd1ic8FZR4E",
        "outputId": "094d81fa-b208-45ec-ca8d-cf5508464f1b"
      },
      "execution_count": 16,
      "outputs": [
        {
          "output_type": "execute_result",
          "data": {
            "text/plain": [
              "Text(0, 0.5, 'Number of Issues')"
            ]
          },
          "metadata": {},
          "execution_count": 16
        },
        {
          "output_type": "display_data",
          "data": {
            "text/plain": [
              "<Figure size 640x480 with 1 Axes>"
            ],
            "image/png": "[encoded data removed]"
          },
          "metadata": {}
        }
      ]
    },
    {
      "cell_type": "markdown",
      "source": [
        "Whom are the most tickets assigned to? (only for the scope of 2 weeks)\n",
        "- Is there a specific reason?\n",
        "- Are they at capacity for this sprint?\n",
        "\n",
        "\n",
        "\n"
      ],
      "metadata": {
        "id": "QGPV1WQkYuq0"
      }
    },
    {
      "cell_type": "code",
      "source": [
        "dataset['Assignee'].value_counts().plot.bar()\n",
        "plt.xticks(rotation=30)\n",
        "plt.title(\"Whom are the most issues assigned to?\")\n",
        "plt.xlabel(\"Assignee\")\n",
        "plt.ylabel(\"Number of Issues\")"
      ],
      "metadata": {
        "colab": {
          "base_uri": "https://localhost:8080/",
          "height": 525
        },
        "id": "v2CoJGK_a9v8",
        "outputId": "a6aea871-1e68-414c-8382-341a5af3d7d4"
      },
      "execution_count": 20,
      "outputs": [
        {
          "output_type": "execute_result",
          "data": {
            "text/plain": [
              "Text(0, 0.5, 'Number of Issues')"
            ]
          },
          "metadata": {},
          "execution_count": 20
        },
        {
          "output_type": "display_data",
          "data": {
            "text/plain": [
              "<Figure size 640x480 with 1 Axes>"
            ],
            "image/png": "[encoded data removed]"
          },
          "metadata": {}
        }
      ]
    },
    {
      "cell_type": "code",
      "source": [],
      "metadata": {
        "id": "50fOntK1bDjC"
      },
      "execution_count": null,
      "outputs": []
    }
  ]
}